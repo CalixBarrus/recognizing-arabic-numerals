{
 "cells": [
  {
   "cell_type": "code",
   "execution_count": 1,
   "metadata": {},
   "outputs": [],
   "source": [
    "import pandas as pd\n",
    "import matplotlib.pyplot as plt\n",
    "import numpy as np"
   ]
  },
  {
   "cell_type": "code",
   "execution_count": 12,
   "metadata": {},
   "outputs": [],
   "source": [
    "#reading test set\n",
    "test = pd.read_csv(\"Test_Arabic_Digit.txt\", header=None, sep=' ')\n",
    "df_list = np.split(test, test[test.isnull().all(1)].index)\n",
    "df_list = [df[1:].reset_index() for df in df_list]\n",
    "\n",
    "# block_lens = [len(df) for df in df_list]\n",
    "# plt.hist(block_lens)\n",
    "\n",
    "test_data = [df_list[i].iloc[0] for i in range(1, len(df_list))]\n",
    "test_data = np.array(test_data)\n",
    "# preserving only the first column, which is the index of each of the sequences\n",
    "test_data = test_data[:, 1:]\n",
    "\n",
    "test_target_number = [i for i in range(10) for _ in range(220)]\n",
    "test_target_gender = [gender for _ in range(10) for gender in ['m', 'f'] for _ in range(110)]"
   ]
  },
  {
   "cell_type": "code",
   "execution_count": 3,
   "metadata": {},
   "outputs": [],
   "source": [
    "# Do the same thing for the Training dataset \n",
    "\n",
    "train = pd.read_csv(\"Train_Arabic_Digit.txt\", header=None, sep=' ')\n",
    "df_list_train = np.split(train, train[train.isnull().all(1)].index)\n",
    "df_list_train = [df[1:].reset_index() for df in df_list_train]\n",
    "\n",
    "# block_lens = [len(df) for df in df_list_train]\n",
    "\n",
    "train_data = [df_list_train[i].iloc[0] for i in range(1, len(df_list_train))]\n",
    "train_data = np.array(train_data)\n",
    "# preserving only the first column, which is the index of each of the sequences\n",
    "train_data = train_data[:, 1:]\n",
    "\n",
    "train_target_number = [i for i in range(10) for _ in range(660)]\n",
    "train_target_gender = [gender for _ in range(10) for gender in ['m', 'f'] for _ in range(330)]"
   ]
  },
  {
   "cell_type": "code",
   "execution_count": null,
   "metadata": {},
   "outputs": [],
   "source": []
  },
  {
   "cell_type": "markdown",
   "metadata": {},
   "source": [
    "Each line in Train_Arabic_Digit.txt or Test_Arabic_Digit.txt represents 13 MFCCs coefficients in\n",
    "the increasing order separated by spaces. This corresponds to one analysis frame.\n",
    "Lines are organized into blocks, which are a set of 4-93 lines separated by blank lines and\n",
    "corresponds to a single speech utterance of an spoken Arabic digit with 4-93 frames.\n",
    "Each spoken digit is a set of consecutive blocks."
   ]
  },
  {
   "cell_type": "code",
   "execution_count": null,
   "metadata": {},
   "outputs": [],
   "source": []
  }
 ],
 "metadata": {
  "kernelspec": {
   "display_name": "Python 3 (ipykernel)",
   "language": "python",
   "name": "python3"
  },
  "language_info": {
   "codemirror_mode": {
    "name": "ipython",
    "version": 3
   },
   "file_extension": ".py",
   "mimetype": "text/x-python",
   "name": "python",
   "nbconvert_exporter": "python",
   "pygments_lexer": "ipython3",
   "version": "3.7.9"
  }
 },
 "nbformat": 4,
 "nbformat_minor": 4
}
