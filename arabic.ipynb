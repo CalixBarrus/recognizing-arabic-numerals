{
 "cells": [
  {
   "cell_type": "code",
   "execution_count": 1,
   "metadata": {},
   "outputs": [],
   "source": [
    "import pandas as pd\n",
    "import matplotlib.pyplot as plt\n",
    "import numpy as np\n",
    "import scipy as sp\n",
    "import pickle\n",
    "\n",
    "import gmmhmm"
   ]
  },
  {
   "cell_type": "code",
   "execution_count": 2,
   "metadata": {},
   "outputs": [],
   "source": [
    "def initialize(n_states):\n",
    "    transmat = np.ones((n_states,n_states))/float(n_states)\n",
    "    for i in range(n_states):\n",
    "        transmat[i,:] += sp.random.uniform(-1./n_states,1./n_states,n_states)\n",
    "        transmat[i,:] /= sum(transmat[i,:])\n",
    "    startprob = np.ones(n_states)/float(n_states) + sp.random.uniform(-1./n_states,1./n_states,n_states)\n",
    "    startprob /= sum(startprob)\n",
    "    return startprob, transmat\n",
    "\n",
    "def predict(mfcc_array, models):\n",
    "    M = -np.inf\n",
    "    ind = 0\n",
    "    for i,model in enumerate(models):\n",
    "        val = model.score(mfcc_array)\n",
    "        if val > M:\n",
    "            ind = i\n",
    "            M = val\n",
    "    return ind # FIXME: only works for digits\n",
    "\n",
    "def get_model(value):\n",
    "    with open(f\"model_digit_{value}.pk\", 'rb') as fin:\n",
    "        model = pickle.load(fin)\n",
    "    return model"
   ]
  },
  {
   "cell_type": "markdown",
   "metadata": {},
   "source": [
    "# Load Data"
   ]
  },
  {
   "cell_type": "code",
   "execution_count": 21,
   "metadata": {},
   "outputs": [
    {
     "data": {
      "text/plain": [
       "(38, 13)"
      ]
     },
     "execution_count": 21,
     "metadata": {},
     "output_type": "execute_result"
    }
   ],
   "source": [
    "test = pd.read_csv(\"Test_Arabic_Digit.txt\", header=None, sep=' ')\n",
    "test = np.split(test, test[test.isnull().all(1)].index)\n",
    "test = [df[1:].reset_index().drop('index', axis=1).values for df in test[1:]]\n",
    "test = np.array([arr[:4] for arr in test])\n",
    "\n",
    "train = pd.read_csv(\"Train_Arabic_Digit.txt\", header=None, sep=' ')\n",
    "train = np.split(train, train[train.isnull().all(1)].index)\n",
    "train = [df[1:].reset_index().drop('index', axis=1).values for df in train[1:]]\n",
    "# train = np.array([arr[:4] for arr in train])\n",
    "\n",
    "test_target_number = [i for i in range(10) for _ in range(220)]\n",
    "test_target_gender = [gender for _ in range(10) for gender in ['m', 'f'] for _ in range(110)]\n",
    "\n",
    "train_target_number = np.array([i for i in range(10) for _ in range(660)])\n",
    "train_target_gender = np.array([gender for _ in range(10) for gender in ['m', 'f'] for _ in range(330)])\n",
    "train[0].shape"
   ]
  },
  {
   "cell_type": "code",
   "execution_count": null,
   "metadata": {},
   "outputs": [],
   "source": [
    "# If train() takes data as single argument instead of 2\n",
    "# train_number = np.hstack((train_data, train_target_number.reshape(-1,1)))\n",
    "# train_gender = np.hstack((train_data, train_target_gender.reshape(-1,1)))"
   ]
  },
  {
   "cell_type": "code",
   "execution_count": 128,
   "metadata": {},
   "outputs": [
    {
     "data": {
      "image/png": "[encoded data removed]",
      "text/plain": [
       "<Figure size 432x288 with 1 Axes>"
      ]
     },
     "metadata": {
      "needs_background": "light"
     },
     "output_type": "display_data"
    }
   ],
   "source": [
    "plt.hist([len(df) for df in test+train])\n",
    "plt.title(\"Block Lengths\")\n",
    "plt.show()"
   ]
  },
  {
   "cell_type": "markdown",
   "metadata": {},
   "source": [
    "# Train HMMs"
   ]
  },
  {
   "cell_type": "code",
   "execution_count": 29,
   "metadata": {},
   "outputs": [
    {
     "data": {
      "text/plain": [
       "(38, 13)"
      ]
     },
     "execution_count": 29,
     "metadata": {},
     "output_type": "execute_result"
    }
   ],
   "source": [
    "# numbers = np.array([train[train_target_number == num,:] for num in np.unique(train_target_number)])\n",
    "numbers = []\n",
    "for num in np.unique(train_target_number):\n",
    "#     numbers.append(train[train_target_number == num,:])\n",
    "    numbers.append([train[i] for i in np.where(train_target_number == num)[0]])\n"
   ]
  },
  {
   "cell_type": "code",
   "execution_count": 33,
   "metadata": {},
   "outputs": [],
   "source": [
    "number_models = []\n",
    "gender_models = []\n",
    "\n",
    "for single_number_data in numbers:\n",
    "    # Train GMMHMM on single_number_data\n",
    "    startprob, transmat = initialize(5)\n",
    "    hmm = gmmhmm.GMMHMM(n_components=5, n_mix=3, transmat=transmat, startprob=startprob, cvtype='diag')\n",
    "    hmm.covars_prior = 0.01\n",
    "    hmm.fit(single_number_data, init_params='mc', var=0.1)\n",
    "    number_models.append(hmm)"
   ]
  },
  {
   "cell_type": "code",
   "execution_count": 35,
   "metadata": {},
   "outputs": [],
   "source": [
    "for i,model in enumerate(number_models):\n",
    "    with open(f\"model_digit_{i}.pk\", 'wb') as fout:\n",
    "        pickle.dump(model,fout)"
   ]
  },
  {
   "cell_type": "markdown",
   "metadata": {},
   "source": [
    "# Test HMMs"
   ]
  },
  {
   "cell_type": "code",
   "execution_count": 17,
   "metadata": {},
   "outputs": [
    {
     "data": {
      "text/plain": [
       "0.5809090909090909"
      ]
     },
     "execution_count": 17,
     "metadata": {},
     "output_type": "execute_result"
    }
   ],
   "source": [
    "models = [get_model(i) for i in range(10)]\n",
    "pred = []\n",
    "correct = 0\n",
    "for obs, target in zip(test, test_target_number):\n",
    "    pred.append(predict(obs,models))\n",
    "    if predict(obs, models) == target:\n",
    "        correct += 1\n",
    "correct / len(test)"
   ]
  },
  {
   "cell_type": "code",
   "execution_count": 20,
   "metadata": {},
   "outputs": [
    {
     "data": {
      "text/html": [
       "<div>\n",
       "<style scoped>\n",
       "    .dataframe tbody tr th:only-of-type {\n",
       "        vertical-align: middle;\n",
       "    }\n",
       "\n",
       "    .dataframe tbody tr th {\n",
       "        vertical-align: top;\n",
       "    }\n",
       "\n",
       "    .dataframe thead th {\n",
       "        text-align: right;\n",
       "    }\n",
       "</style>\n",
       "<table border=\"1\" class=\"dataframe\">\n",
       "  <thead>\n",
       "    <tr style=\"text-align: right;\">\n",
       "      <th></th>\n",
       "      <th>Prediction</th>\n",
       "      <th>Ground Truth</th>\n",
       "    </tr>\n",
       "  </thead>\n",
       "  <tbody>\n",
       "    <tr>\n",
       "      <th>0</th>\n",
       "      <td>6</td>\n",
       "      <td>0</td>\n",
       "    </tr>\n",
       "    <tr>\n",
       "      <th>1</th>\n",
       "      <td>6</td>\n",
       "      <td>0</td>\n",
       "    </tr>\n",
       "    <tr>\n",
       "      <th>2</th>\n",
       "      <td>6</td>\n",
       "      <td>0</td>\n",
       "    </tr>\n",
       "    <tr>\n",
       "      <th>3</th>\n",
       "      <td>6</td>\n",
       "      <td>0</td>\n",
       "    </tr>\n",
       "    <tr>\n",
       "      <th>4</th>\n",
       "      <td>6</td>\n",
       "      <td>0</td>\n",
       "    </tr>\n",
       "    <tr>\n",
       "      <th>...</th>\n",
       "      <td>...</td>\n",
       "      <td>...</td>\n",
       "    </tr>\n",
       "    <tr>\n",
       "      <th>2195</th>\n",
       "      <td>9</td>\n",
       "      <td>9</td>\n",
       "    </tr>\n",
       "    <tr>\n",
       "      <th>2196</th>\n",
       "      <td>3</td>\n",
       "      <td>9</td>\n",
       "    </tr>\n",
       "    <tr>\n",
       "      <th>2197</th>\n",
       "      <td>9</td>\n",
       "      <td>9</td>\n",
       "    </tr>\n",
       "    <tr>\n",
       "      <th>2198</th>\n",
       "      <td>6</td>\n",
       "      <td>9</td>\n",
       "    </tr>\n",
       "    <tr>\n",
       "      <th>2199</th>\n",
       "      <td>6</td>\n",
       "      <td>9</td>\n",
       "    </tr>\n",
       "  </tbody>\n",
       "</table>\n",
       "<p>2200 rows × 2 columns</p>\n",
       "</div>"
      ],
      "text/plain": [
       "      Prediction  Ground Truth\n",
       "0              6             0\n",
       "1              6             0\n",
       "2              6             0\n",
       "3              6             0\n",
       "4              6             0\n",
       "...          ...           ...\n",
       "2195           9             9\n",
       "2196           3             9\n",
       "2197           9             9\n",
       "2198           6             9\n",
       "2199           6             9\n",
       "\n",
       "[2200 rows x 2 columns]"
      ]
     },
     "execution_count": 20,
     "metadata": {},
     "output_type": "execute_result"
    }
   ],
   "source": [
    "df = pd.DataFrame(data={'Prediction':pred, 'Ground Truth': test_target_number})\n",
    "df"
   ]
  }
 ],
 "metadata": {
  "kernelspec": {
   "display_name": "Python 3 (ipykernel)",
   "language": "python",
   "name": "python3"
  },
  "language_info": {
   "codemirror_mode": {
    "name": "ipython",
    "version": 3
   },
   "file_extension": ".py",
   "mimetype": "text/x-python",
   "name": "python",
   "nbconvert_exporter": "python",
   "pygments_lexer": "ipython3",
   "version": "3.9.7"
  }
 },
 "nbformat": 4,
 "nbformat_minor": 4
}
