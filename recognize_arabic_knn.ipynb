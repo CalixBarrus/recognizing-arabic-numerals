{
 "cells": [
  {
   "cell_type": "code",
   "execution_count": 2,
   "metadata": {},
   "outputs": [],
   "source": [
    "import pandas as pd\n",
    "import numpy as np"
   ]
  },
  {
   "cell_type": "code",
   "execution_count": 3,
   "metadata": {},
   "outputs": [],
   "source": [
    "def initialize(n_states):\n",
    "    transmat = np.ones((n_states,n_states))/float(n_states)\n",
    "    for i in range(n_states):\n",
    "        transmat[i,:] += sp.random.uniform(-1./n_states,1./n_states,n_states)\n",
    "        transmat[i,:] /= sum(transmat[i,:])\n",
    "    startprob = np.ones(n_states)/float(n_states) + sp.random.uniform(-1./n_states,1./n_states,n_states)\n",
    "    startprob /= sum(startprob)\n",
    "    return startprob, transmat\n",
    "\n",
    "def predict(mfcc_array, models):\n",
    "    M = -np.inf\n",
    "    ind = 0\n",
    "    for i,model in enumerate(models):\n",
    "        if model.score(mfcc_array) > M:\n",
    "            ind = i\n",
    "            M = val\n",
    "    return ind"
   ]
  },
  {
   "cell_type": "markdown",
   "metadata": {},
   "source": [
    "# Load Data"
   ]
  },
  {
   "cell_type": "code",
   "execution_count": 4,
   "metadata": {},
   "outputs": [
    {
     "data": {
      "text/plain": [
       "93"
      ]
     },
     "execution_count": 4,
     "metadata": {},
     "output_type": "execute_result"
    }
   ],
   "source": [
    "test = pd.read_csv(\"Test_Arabic_Digit.txt\", header=None, sep=' ')\n",
    "test = np.split(test, test[test.isnull().all(1)].index)\n",
    "test = [df[1:].reset_index().drop('index', axis=1).values for df in test[1:]]\n",
    "truncated_test = np.array([arr[:4] for arr in test])\n",
    "\n",
    "train = pd.read_csv(\"Train_Arabic_Digit.txt\", header=None, sep=' ')\n",
    "train = np.split(train, train[train.isnull().all(1)].index)\n",
    "train = [df[1:].reset_index().drop('index', axis=1).values for df in train[1:]]\n",
    "truncated_train = np.array([arr[:4] for arr in train])\n",
    "\n",
    "test_target_number = [i for i in range(10) for _ in range(220)]\n",
    "test_target_gender = [gender for _ in range(10) for gender in ['m', 'f'] for _ in range(110)]\n",
    "\n",
    "train_target_number = np.array([i for i in range(10) for _ in range(660)])\n",
    "train_target_gender = np.array([gender for _ in range(10) for gender in ['m', 'f'] for _ in range(330)])\n",
    "\n",
    "longest_time_series = max(list(map(len, train)))\n",
    "longest_time_series"
   ]
  },
  {
   "cell_type": "code",
   "execution_count": 5,
   "metadata": {},
   "outputs": [],
   "source": [
    "# pad data so each row is the same length\n",
    "# longest_time_series = max(list(map(len, train)))\n",
    "\n",
    "_, d = test[0].shape\n",
    "padded_test = np.array([np.concatenate((array, np.zeros((longest_time_series-array.shape[0], d)))) for array in test])\n",
    "\n",
    "padded_train = np.array([np.concatenate((array, np.zeros((longest_time_series-array.shape[0], d)))) for array in train])\n"
   ]
  },
  {
   "cell_type": "code",
   "execution_count": null,
   "metadata": {},
   "outputs": [],
   "source": [
    "# If train() takes data as single argument instead of 2\n",
    "# train_number = np.hstack((train_data, train_target_number.reshape(-1,1)))\n",
    "# train_gender = np.hstack((train_data, train_target_gender.reshape(-1,1)))"
   ]
  },
  {
   "cell_type": "code",
   "execution_count": 128,
   "metadata": {},
   "outputs": [
    {
     "data": {
      "image/png": "[encoded data removed]",
      "text/plain": [
       "<Figure size 432x288 with 1 Axes>"
      ]
     },
     "metadata": {
      "needs_background": "light"
     },
     "output_type": "display_data"
    }
   ],
   "source": [
    "plt.hist([len(df) for df in test+train])\n",
    "plt.title(\"Block Lengths\")\n",
    "plt.show()"
   ]
  },
  {
   "cell_type": "markdown",
   "metadata": {},
   "source": [
    "# K Neighbors Time Series Classifier"
   ]
  },
  {
   "cell_type": "code",
   "execution_count": 8,
   "metadata": {},
   "outputs": [],
   "source": [
    "from sktime.classification.distance_based import KNeighborsTimeSeriesClassifier\n",
    "from sktime.datasets import load_unit_test\n",
    "# test the thing so it \n",
    "# X_train, y_train = load_unit_test(return_X_y=True, split=\"train\")\n",
    "# X_test, y_test = load_unit_test(return_X_y=True, split=\"test\")\n",
    "# classifier = KNeighborsTimeSeriesClassifier()\n",
    "# classifier.fit(X_train, y_train)\n",
    "\n",
    "# classifier.score(X_test, y_test)"
   ]
  },
  {
   "cell_type": "code",
   "execution_count": 10,
   "metadata": {},
   "outputs": [
    {
     "data": {
      "text/plain": [
       "0.6336363636363637"
      ]
     },
     "execution_count": 10,
     "metadata": {},
     "output_type": "execute_result"
    }
   ],
   "source": [
    "# train = np.array([arr[:4] for arr in train])\n",
    "\n",
    "\n",
    "classifier1 = KNeighborsTimeSeriesClassifier()\n",
    "classifier1.fit(truncated_train, train_target_number)\n",
    "\n",
    "classifier1.score(truncated_test, test_target_number)"
   ]
  },
  {
   "cell_type": "code",
   "execution_count": null,
   "metadata": {},
   "outputs": [],
   "source": [
    "# train = np.array([arr[:4] for arr in train])\n",
    "\n",
    "\n",
    "classifier2 = KNeighborsTimeSeriesClassifier()\n",
    "classifier2.fit(padded_train, train_target_number)\n",
    "\n",
    "classifier2.score(padded_test, test_target_number)"
   ]
  },
  {
   "cell_type": "code",
   "execution_count": null,
   "metadata": {},
   "outputs": [],
   "source": [
    "# train = np.array([arr[:4] for arr in train])\n",
    "\n",
    "\n",
    "classifier3 = KNeighborsTimeSeriesClassifier()\n",
    "classifier3.fit(truncated_train, train_target_gender)\n",
    "\n",
    "classifier3.score(truncated_test, test_target_gender)"
   ]
  },
  {
   "cell_type": "code",
   "execution_count": null,
   "metadata": {},
   "outputs": [],
   "source": [
    "# train = np.array([arr[:4] for arr in train])\n",
    "\n",
    "\n",
    "classifier4 = KNeighborsTimeSeriesClassifier()\n",
    "classifier4.fit(padded_train, train_target_gender)\n",
    "\n",
    "classifier4.score(padded_test, test_target_gender)"
   ]
  },
  {
   "cell_type": "code",
   "execution_count": null,
   "metadata": {},
   "outputs": [],
   "source": []
  }
 ],
 "metadata": {
  "kernelspec": {
   "display_name": "snowflakes",
   "language": "python",
   "name": "snowflakes"
  },
  "language_info": {
   "codemirror_mode": {
    "name": "ipython",
    "version": 3
   },
   "file_extension": ".py",
   "mimetype": "text/x-python",
   "name": "python",
   "nbconvert_exporter": "python",
   "pygments_lexer": "ipython3",
   "version": "3.8.12"
  }
 },
 "nbformat": 4,
 "nbformat_minor": 4
}
